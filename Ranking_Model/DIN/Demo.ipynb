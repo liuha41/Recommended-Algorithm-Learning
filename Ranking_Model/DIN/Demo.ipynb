{
 "cells": [
  {
   "cell_type": "code",
   "execution_count": 1,
   "id": "initial_id",
   "metadata": {
    "collapsed": true,
    "ExecuteTime": {
     "end_time": "2024-12-09T13:09:54.372639900Z",
     "start_time": "2024-12-09T13:09:52.244345Z"
    }
   },
   "outputs": [],
   "source": [
    "import torch\n",
    "import torch.utils.data as Data\n",
    "import pandas as pd\n",
    "from sklearn.model_selection import train_test_split\n",
    "from sklearn.preprocessing import LabelEncoder, OrdinalEncoder, KBinsDiscretizer\n",
    "def AmazonBookPreprocess(dataframe, seq_len=40):\n",
    "    \"\"\"\n",
    "    数据集处理\n",
    "    :param dataframe: 未处理的数据集\n",
    "    :param seq_len: 数据序列长度\n",
    "    :return data: 处理好的数据集\n",
    "    \"\"\"\n",
    "    # 1.按'|'切割，用户历史购买数据，获取item的序列和类别的序列\n",
    "    data = dataframe.copy()\n",
    "    data['hist_item_list'] = dataframe.apply(lambda x: x['hist_item_list'].split('|'), axis=1)\n",
    "    data['hist_cate_list'] = dataframe.apply(lambda x: x['hist_cate_list'].split('|'), axis=1)\n",
    "\n",
    "    # 2.获取cate的所有种类，为每个类别设置一个唯一的编码\n",
    "    cate_list = list(data['cateID'])\n",
    "    _ = [cate_list.extend(i) for i in data['hist_cate_list'].values]\n",
    "    # 3.将编码去重\n",
    "    cate_set = set(cate_list + ['0'])  # 用 '0' 作为padding的类别\n",
    "\n",
    "    # 4.截取用户行为的长度,也就是截取hist_cate_list的长度，生成对应的列名\n",
    "    cols = ['hist_cate_{}'.format(i) for i in range(seq_len)]\n",
    "\n",
    "    # 5.截取前40个历史行为，如果历史行为不足40个则填充0\n",
    "    def trim_cate_list(x):\n",
    "        if len(x) > seq_len:\n",
    "            # 5.1历史行为大于40, 截取后40个行为\n",
    "            return pd.Series(x[-seq_len:], index=cols)\n",
    "        else:\n",
    "            # 5.2历史行为不足40, padding到40个行为\n",
    "            pad_len = seq_len - len(x)\n",
    "            x = x + ['0'] * pad_len\n",
    "            return pd.Series(x, index=cols)\n",
    "\n",
    "    # 6.预测目标为试题的类别\n",
    "    labels = data['label']\n",
    "    data = data['hist_cate_list'].apply(trim_cate_list).join(data['cateID'])\n",
    "\n",
    "    # 7.生成类别对应序号的编码器，如book->1,Russian->2这样\n",
    "    cate_encoder = LabelEncoder().fit(list(cate_set))\n",
    "    # 8.这里分为两步，第一步为把类别转化为数值，第二部为拼接上label\n",
    "    data = data.apply(cate_encoder.transform).join(labels)\n",
    "    return data"
   ]
  },
  {
   "cell_type": "code",
   "execution_count": 2,
   "outputs": [],
   "source": [
    "from conf.config import *\n",
    "data = pd.read_csv(DataSet_Root + 'amazon-books-100k.txt')"
   ],
   "metadata": {
    "collapsed": false,
    "ExecuteTime": {
     "end_time": "2024-12-09T13:10:17.410361Z",
     "start_time": "2024-12-09T13:10:17.209518700Z"
    }
   },
   "id": "7e8d1b0867c9fd37"
  },
  {
   "cell_type": "code",
   "execution_count": 3,
   "outputs": [
    {
     "data": {
      "text/plain": "       label          userID      itemID                cateID  \\\n0          0   AZPJ9LUT0FEPY  B00AMNNTIA  Literature & Fiction   \n1          1   AZPJ9LUT0FEPY  0800731603                 Books   \n2          0  A2NRV79GKAU726  B003NNV10O               Russian   \n3          1  A2NRV79GKAU726  B000UWJ91O                 Books   \n4          0  A2GEQVDX2LL4V3  0321334094                 Books   \n...      ...             ...         ...                   ...   \n99995      1  A3I7LS4H993CXB  1481872060                 Books   \n99996      0   AP00RAQ20KM12  1414334095                 Books   \n99997      1   AP00RAQ20KM12  B0063LINHW            Historical   \n99998      0  A1ZVJYANTLTLVP  0762419229                 Books   \n99999      1  A1ZVJYANTLTLVP  1455507202                 Books   \n\n                                          hist_item_list  \\\n0      0307744434|0062248391|0470530707|0978924622|15...   \n1      0307744434|0062248391|0470530707|0978924622|15...   \n2      0814472869|0071462074|1583942300|0812538366|B0...   \n3      0814472869|0071462074|1583942300|0812538366|B0...   \n4            0743596870|0374280991|1439140634|0976475731   \n...                                                  ...   \n99995  1936826135|1250014409|1480219851|1484823664|14...   \n99996  0312328796|0758207182|0739470140|1601621450|18...   \n99997  0312328796|0758207182|0739470140|1601621450|18...   \n99998        0743470117|0395851580|1451661215|0312342020   \n99999        0743470117|0395851580|1451661215|0312342020   \n\n                                          hist_cate_list  \n0                          Books|Books|Books|Books|Books  \n1                          Books|Books|Books|Books|Books  \n2             Books|Books|Books|Books|Baking|Books|Books  \n3             Books|Books|Books|Books|Baking|Books|Books  \n4                                Books|Books|Books|Books  \n...                                                  ...  \n99995  Books|Books|Books|Books|Books|Literature & Fic...  \n99996  Books|Books|Books|Books|Books|Books|Books|Book...  \n99997  Books|Books|Books|Books|Books|Books|Books|Book...  \n99998                            Books|Books|Books|Books  \n99999                            Books|Books|Books|Books  \n\n[100000 rows x 6 columns]",
      "text/html": "<div>\n<style scoped>\n    .dataframe tbody tr th:only-of-type {\n        vertical-align: middle;\n    }\n\n    .dataframe tbody tr th {\n        vertical-align: top;\n    }\n\n    .dataframe thead th {\n        text-align: right;\n    }\n</style>\n<table border=\"1\" class=\"dataframe\">\n  <thead>\n    <tr style=\"text-align: right;\">\n      <th></th>\n      <th>label</th>\n      <th>userID</th>\n      <th>itemID</th>\n      <th>cateID</th>\n      <th>hist_item_list</th>\n      <th>hist_cate_list</th>\n    </tr>\n  </thead>\n  <tbody>\n    <tr>\n      <th>0</th>\n      <td>0</td>\n      <td>AZPJ9LUT0FEPY</td>\n      <td>B00AMNNTIA</td>\n      <td>Literature &amp; Fiction</td>\n      <td>0307744434|0062248391|0470530707|0978924622|15...</td>\n      <td>Books|Books|Books|Books|Books</td>\n    </tr>\n    <tr>\n      <th>1</th>\n      <td>1</td>\n      <td>AZPJ9LUT0FEPY</td>\n      <td>0800731603</td>\n      <td>Books</td>\n      <td>0307744434|0062248391|0470530707|0978924622|15...</td>\n      <td>Books|Books|Books|Books|Books</td>\n    </tr>\n    <tr>\n      <th>2</th>\n      <td>0</td>\n      <td>A2NRV79GKAU726</td>\n      <td>B003NNV10O</td>\n      <td>Russian</td>\n      <td>0814472869|0071462074|1583942300|0812538366|B0...</td>\n      <td>Books|Books|Books|Books|Baking|Books|Books</td>\n    </tr>\n    <tr>\n      <th>3</th>\n      <td>1</td>\n      <td>A2NRV79GKAU726</td>\n      <td>B000UWJ91O</td>\n      <td>Books</td>\n      <td>0814472869|0071462074|1583942300|0812538366|B0...</td>\n      <td>Books|Books|Books|Books|Baking|Books|Books</td>\n    </tr>\n    <tr>\n      <th>4</th>\n      <td>0</td>\n      <td>A2GEQVDX2LL4V3</td>\n      <td>0321334094</td>\n      <td>Books</td>\n      <td>0743596870|0374280991|1439140634|0976475731</td>\n      <td>Books|Books|Books|Books</td>\n    </tr>\n    <tr>\n      <th>...</th>\n      <td>...</td>\n      <td>...</td>\n      <td>...</td>\n      <td>...</td>\n      <td>...</td>\n      <td>...</td>\n    </tr>\n    <tr>\n      <th>99995</th>\n      <td>1</td>\n      <td>A3I7LS4H993CXB</td>\n      <td>1481872060</td>\n      <td>Books</td>\n      <td>1936826135|1250014409|1480219851|1484823664|14...</td>\n      <td>Books|Books|Books|Books|Books|Literature &amp; Fic...</td>\n    </tr>\n    <tr>\n      <th>99996</th>\n      <td>0</td>\n      <td>AP00RAQ20KM12</td>\n      <td>1414334095</td>\n      <td>Books</td>\n      <td>0312328796|0758207182|0739470140|1601621450|18...</td>\n      <td>Books|Books|Books|Books|Books|Books|Books|Book...</td>\n    </tr>\n    <tr>\n      <th>99997</th>\n      <td>1</td>\n      <td>AP00RAQ20KM12</td>\n      <td>B0063LINHW</td>\n      <td>Historical</td>\n      <td>0312328796|0758207182|0739470140|1601621450|18...</td>\n      <td>Books|Books|Books|Books|Books|Books|Books|Book...</td>\n    </tr>\n    <tr>\n      <th>99998</th>\n      <td>0</td>\n      <td>A1ZVJYANTLTLVP</td>\n      <td>0762419229</td>\n      <td>Books</td>\n      <td>0743470117|0395851580|1451661215|0312342020</td>\n      <td>Books|Books|Books|Books</td>\n    </tr>\n    <tr>\n      <th>99999</th>\n      <td>1</td>\n      <td>A1ZVJYANTLTLVP</td>\n      <td>1455507202</td>\n      <td>Books</td>\n      <td>0743470117|0395851580|1451661215|0312342020</td>\n      <td>Books|Books|Books|Books</td>\n    </tr>\n  </tbody>\n</table>\n<p>100000 rows × 6 columns</p>\n</div>"
     },
     "execution_count": 3,
     "metadata": {},
     "output_type": "execute_result"
    }
   ],
   "source": [
    "data"
   ],
   "metadata": {
    "collapsed": false,
    "ExecuteTime": {
     "end_time": "2024-12-09T13:10:22.141541600Z",
     "start_time": "2024-12-09T13:10:22.107673Z"
    }
   },
   "id": "d7087721fe3e48f"
  },
  {
   "cell_type": "code",
   "execution_count": 4,
   "outputs": [
    {
     "data": {
      "text/plain": "       hist_cate_0  hist_cate_1  hist_cate_2  hist_cate_3  hist_cate_4  \\\n0              142          142          142          142          142   \n1              142          142          142          142          142   \n2              142          142          142          142           97   \n3              142          142          142          142           97   \n4              142          142          142          142            0   \n...            ...          ...          ...          ...          ...   \n99995          142          142          142          142          142   \n99996          142          142          142          142          142   \n99997          142          142          142          142          142   \n99998          142          142          142          142            0   \n99999          142          142          142          142            0   \n\n       hist_cate_5  hist_cate_6  hist_cate_7  hist_cate_8  hist_cate_9  ...  \\\n0                0            0            0            0            0  ...   \n1                0            0            0            0            0  ...   \n2              142          142            0            0            0  ...   \n3              142          142            0            0            0  ...   \n4                0            0            0            0            0  ...   \n...            ...          ...          ...          ...          ...  ...   \n99995          751            0            0            0            0  ...   \n99996          142          142          142          142          142  ...   \n99997          142          142          142          142          142  ...   \n99998            0            0            0            0            0  ...   \n99999            0            0            0            0            0  ...   \n\n       hist_cate_32  hist_cate_33  hist_cate_34  hist_cate_35  hist_cate_36  \\\n0                 0             0             0             0             0   \n1                 0             0             0             0             0   \n2                 0             0             0             0             0   \n3                 0             0             0             0             0   \n4                 0             0             0             0             0   \n...             ...           ...           ...           ...           ...   \n99995             0             0             0             0             0   \n99996             0             0             0             0             0   \n99997             0             0             0             0             0   \n99998             0             0             0             0             0   \n99999             0             0             0             0             0   \n\n       hist_cate_37  hist_cate_38  hist_cate_39  cateID  label  \n0                 0             0             0     751      0  \n1                 0             0             0     142      1  \n2                 0             0             0    1094      0  \n3                 0             0             0     142      1  \n4                 0             0             0     142      0  \n...             ...           ...           ...     ...    ...  \n99995             0             0             0     142      1  \n99996             0             0             0     142      0  \n99997             0             0             0     607      1  \n99998             0             0             0     142      0  \n99999             0             0             0     142      1  \n\n[100000 rows x 42 columns]",
      "text/html": "<div>\n<style scoped>\n    .dataframe tbody tr th:only-of-type {\n        vertical-align: middle;\n    }\n\n    .dataframe tbody tr th {\n        vertical-align: top;\n    }\n\n    .dataframe thead th {\n        text-align: right;\n    }\n</style>\n<table border=\"1\" class=\"dataframe\">\n  <thead>\n    <tr style=\"text-align: right;\">\n      <th></th>\n      <th>hist_cate_0</th>\n      <th>hist_cate_1</th>\n      <th>hist_cate_2</th>\n      <th>hist_cate_3</th>\n      <th>hist_cate_4</th>\n      <th>hist_cate_5</th>\n      <th>hist_cate_6</th>\n      <th>hist_cate_7</th>\n      <th>hist_cate_8</th>\n      <th>hist_cate_9</th>\n      <th>...</th>\n      <th>hist_cate_32</th>\n      <th>hist_cate_33</th>\n      <th>hist_cate_34</th>\n      <th>hist_cate_35</th>\n      <th>hist_cate_36</th>\n      <th>hist_cate_37</th>\n      <th>hist_cate_38</th>\n      <th>hist_cate_39</th>\n      <th>cateID</th>\n      <th>label</th>\n    </tr>\n  </thead>\n  <tbody>\n    <tr>\n      <th>0</th>\n      <td>142</td>\n      <td>142</td>\n      <td>142</td>\n      <td>142</td>\n      <td>142</td>\n      <td>0</td>\n      <td>0</td>\n      <td>0</td>\n      <td>0</td>\n      <td>0</td>\n      <td>...</td>\n      <td>0</td>\n      <td>0</td>\n      <td>0</td>\n      <td>0</td>\n      <td>0</td>\n      <td>0</td>\n      <td>0</td>\n      <td>0</td>\n      <td>751</td>\n      <td>0</td>\n    </tr>\n    <tr>\n      <th>1</th>\n      <td>142</td>\n      <td>142</td>\n      <td>142</td>\n      <td>142</td>\n      <td>142</td>\n      <td>0</td>\n      <td>0</td>\n      <td>0</td>\n      <td>0</td>\n      <td>0</td>\n      <td>...</td>\n      <td>0</td>\n      <td>0</td>\n      <td>0</td>\n      <td>0</td>\n      <td>0</td>\n      <td>0</td>\n      <td>0</td>\n      <td>0</td>\n      <td>142</td>\n      <td>1</td>\n    </tr>\n    <tr>\n      <th>2</th>\n      <td>142</td>\n      <td>142</td>\n      <td>142</td>\n      <td>142</td>\n      <td>97</td>\n      <td>142</td>\n      <td>142</td>\n      <td>0</td>\n      <td>0</td>\n      <td>0</td>\n      <td>...</td>\n      <td>0</td>\n      <td>0</td>\n      <td>0</td>\n      <td>0</td>\n      <td>0</td>\n      <td>0</td>\n      <td>0</td>\n      <td>0</td>\n      <td>1094</td>\n      <td>0</td>\n    </tr>\n    <tr>\n      <th>3</th>\n      <td>142</td>\n      <td>142</td>\n      <td>142</td>\n      <td>142</td>\n      <td>97</td>\n      <td>142</td>\n      <td>142</td>\n      <td>0</td>\n      <td>0</td>\n      <td>0</td>\n      <td>...</td>\n      <td>0</td>\n      <td>0</td>\n      <td>0</td>\n      <td>0</td>\n      <td>0</td>\n      <td>0</td>\n      <td>0</td>\n      <td>0</td>\n      <td>142</td>\n      <td>1</td>\n    </tr>\n    <tr>\n      <th>4</th>\n      <td>142</td>\n      <td>142</td>\n      <td>142</td>\n      <td>142</td>\n      <td>0</td>\n      <td>0</td>\n      <td>0</td>\n      <td>0</td>\n      <td>0</td>\n      <td>0</td>\n      <td>...</td>\n      <td>0</td>\n      <td>0</td>\n      <td>0</td>\n      <td>0</td>\n      <td>0</td>\n      <td>0</td>\n      <td>0</td>\n      <td>0</td>\n      <td>142</td>\n      <td>0</td>\n    </tr>\n    <tr>\n      <th>...</th>\n      <td>...</td>\n      <td>...</td>\n      <td>...</td>\n      <td>...</td>\n      <td>...</td>\n      <td>...</td>\n      <td>...</td>\n      <td>...</td>\n      <td>...</td>\n      <td>...</td>\n      <td>...</td>\n      <td>...</td>\n      <td>...</td>\n      <td>...</td>\n      <td>...</td>\n      <td>...</td>\n      <td>...</td>\n      <td>...</td>\n      <td>...</td>\n      <td>...</td>\n      <td>...</td>\n    </tr>\n    <tr>\n      <th>99995</th>\n      <td>142</td>\n      <td>142</td>\n      <td>142</td>\n      <td>142</td>\n      <td>142</td>\n      <td>751</td>\n      <td>0</td>\n      <td>0</td>\n      <td>0</td>\n      <td>0</td>\n      <td>...</td>\n      <td>0</td>\n      <td>0</td>\n      <td>0</td>\n      <td>0</td>\n      <td>0</td>\n      <td>0</td>\n      <td>0</td>\n      <td>0</td>\n      <td>142</td>\n      <td>1</td>\n    </tr>\n    <tr>\n      <th>99996</th>\n      <td>142</td>\n      <td>142</td>\n      <td>142</td>\n      <td>142</td>\n      <td>142</td>\n      <td>142</td>\n      <td>142</td>\n      <td>142</td>\n      <td>142</td>\n      <td>142</td>\n      <td>...</td>\n      <td>0</td>\n      <td>0</td>\n      <td>0</td>\n      <td>0</td>\n      <td>0</td>\n      <td>0</td>\n      <td>0</td>\n      <td>0</td>\n      <td>142</td>\n      <td>0</td>\n    </tr>\n    <tr>\n      <th>99997</th>\n      <td>142</td>\n      <td>142</td>\n      <td>142</td>\n      <td>142</td>\n      <td>142</td>\n      <td>142</td>\n      <td>142</td>\n      <td>142</td>\n      <td>142</td>\n      <td>142</td>\n      <td>...</td>\n      <td>0</td>\n      <td>0</td>\n      <td>0</td>\n      <td>0</td>\n      <td>0</td>\n      <td>0</td>\n      <td>0</td>\n      <td>0</td>\n      <td>607</td>\n      <td>1</td>\n    </tr>\n    <tr>\n      <th>99998</th>\n      <td>142</td>\n      <td>142</td>\n      <td>142</td>\n      <td>142</td>\n      <td>0</td>\n      <td>0</td>\n      <td>0</td>\n      <td>0</td>\n      <td>0</td>\n      <td>0</td>\n      <td>...</td>\n      <td>0</td>\n      <td>0</td>\n      <td>0</td>\n      <td>0</td>\n      <td>0</td>\n      <td>0</td>\n      <td>0</td>\n      <td>0</td>\n      <td>142</td>\n      <td>0</td>\n    </tr>\n    <tr>\n      <th>99999</th>\n      <td>142</td>\n      <td>142</td>\n      <td>142</td>\n      <td>142</td>\n      <td>0</td>\n      <td>0</td>\n      <td>0</td>\n      <td>0</td>\n      <td>0</td>\n      <td>0</td>\n      <td>...</td>\n      <td>0</td>\n      <td>0</td>\n      <td>0</td>\n      <td>0</td>\n      <td>0</td>\n      <td>0</td>\n      <td>0</td>\n      <td>0</td>\n      <td>142</td>\n      <td>1</td>\n    </tr>\n  </tbody>\n</table>\n<p>100000 rows × 42 columns</p>\n</div>"
     },
     "execution_count": 4,
     "metadata": {},
     "output_type": "execute_result"
    }
   ],
   "source": [
    "data = AmazonBookPreprocess(data)\n",
    "data"
   ],
   "metadata": {
    "collapsed": false,
    "ExecuteTime": {
     "end_time": "2024-12-09T13:10:38.065620400Z",
     "start_time": "2024-12-09T13:10:27.975065Z"
    }
   },
   "id": "cf9428e0b6b525ef"
  }
 ],
 "metadata": {
  "kernelspec": {
   "display_name": "Python 3",
   "language": "python",
   "name": "python3"
  },
  "language_info": {
   "codemirror_mode": {
    "name": "ipython",
    "version": 2
   },
   "file_extension": ".py",
   "mimetype": "text/x-python",
   "name": "python",
   "nbconvert_exporter": "python",
   "pygments_lexer": "ipython2",
   "version": "2.7.6"
  }
 },
 "nbformat": 4,
 "nbformat_minor": 5
}
